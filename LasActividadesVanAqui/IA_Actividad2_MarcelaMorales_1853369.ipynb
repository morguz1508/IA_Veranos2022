{
  "cells": [
    {
      "cell_type": "markdown",
      "source": [
        "# Marcela Morales Guzmán 1853369\n",
        "## Actividad 2: IA Veranos\n",
        "### N4"
      ],
      "metadata": {
        "id": "56VRWIFx4WKW"
      }
    },
    {
      "cell_type": "markdown",
      "metadata": {
        "id": "h0kL3YoDBAMR"
      },
      "source": [
        "#**Ejercicio 1**\n",
        "Escribe un programa que le pida al usuario por su nombre y que lo salude con su nombre, excepto si se llama “Ana”, “Juan”, y “Pedro”."
      ]
    },
    {
      "cell_type": "code",
      "source": [
        "message = input(\"Dime tu nombre: \") #se define el mensaje a mostrar y el inout del usuario\n",
        "a = \"Pedro\" \n",
        "b = \"Ana\"\n",
        "c = \"Juan\"\n",
        "x = message\n",
        "y = \"Hola\" \n",
        "#se establecen las variables\n",
        "if x == a or x == b or x == c: \n",
        "# se usa la funcion if para poner la condicion de que nombres no aceptar\n",
        "  print(\"No se permiten Pedros, Anas o Juanes\")\n",
        "else: \n",
        "  print( y + \" \" + x + \"!!\") #si el input no se encuentra en la condicion se imprime el mensaje"
      ],
      "metadata": {
        "colab": {
          "base_uri": "https://localhost:8080/"
        },
        "id": "jPKzCMP8WaI5",
        "outputId": "da8805a4-dde1-4035-8281-fd80dca1afd3"
      },
      "execution_count": null,
      "outputs": [
        {
          "output_type": "stream",
          "name": "stdout",
          "text": [
            "Dime tu nombre: Juan\n",
            "No se permiten Pedros, Anas o Juanes\n"
          ]
        }
      ]
    },
    {
      "cell_type": "markdown",
      "metadata": {
        "id": "9hzLZQA5BQh4"
      },
      "source": [
        "#**Ejercicio 2**\n",
        "Escribe una función que regrese el último elemento de una lista y que revierta el orden de la lista e imprima la lista revertida."
      ]
    },
    {
      "cell_type": "code",
      "execution_count": 12,
      "metadata": {
        "colab": {
          "base_uri": "https://localhost:8080/"
        },
        "id": "5aB5seKxBYFh",
        "outputId": "eef5ee09-6255-4e4b-da5d-e7b9f72c262e"
      },
      "outputs": [
        {
          "output_type": "stream",
          "name": "stdout",
          "text": [
            "azul\n",
            "['azul', 'verde', 'rojo', 'amarillo', 'rosa']\n"
          ]
        }
      ],
      "source": [
        "def my_function(lista): #se define la funcion \n",
        "  print(lista[-1]) #se imprime el ultimo elemento de la lista\n",
        "  lista.reverse() #se revierte la lista\n",
        "  print(lista)\n",
        "\n",
        "lista = [\"azul\", \"verde\", \"rojo\",\"amarillo\",\"rosa\"] #se define la lista a utilizar\n",
        "my_function(lista) #llama a la función"
      ]
    },
    {
      "cell_type": "markdown",
      "metadata": {
        "id": "IBVB1Hu2BYmo"
      },
      "source": [
        "#**Ejercicio 3**\n",
        "Escribe una función que toma una lista de strings y los imprima línea por línea en un marco rectangular."
      ]
    },
    {
      "cell_type": "code",
      "execution_count": 16,
      "metadata": {
        "id": "bn1qv5_jBpQj",
        "colab": {
          "base_uri": "https://localhost:8080/"
        },
        "outputId": "a908e2bd-bbaf-4c8a-d19a-4e69f7cf1835"
      },
      "outputs": [
        {
          "output_type": "stream",
          "name": "stdout",
          "text": [
            "********\n",
            "*Buenas*\n",
            "*tardes*\n",
            "*a     *\n",
            "*todos *\n",
            "********\n"
          ]
        }
      ],
      "source": [
        "def my_function(): #se define la función\n",
        "  lista = [\"******\",\"Buenas\", \"tardes\", \"a     \", \"todos \",\"******\"] #se define la lista de palabras\n",
        "  for x in lista: #loop para imprimir cada palabra\n",
        "    print(\"*\" + x + \"*\") #se imprime \n",
        "my_function() #llama a la función\n",
        "\n"
      ]
    }
  ],
  "metadata": {
    "colab": {
      "name": "IA_Actividad2_MarcelaMorales_1853369.ipynb",
      "provenance": []
    },
    "kernelspec": {
      "display_name": "Python 3",
      "name": "python3"
    },
    "language_info": {
      "name": "python"
    }
  },
  "nbformat": 4,
  "nbformat_minor": 0
}